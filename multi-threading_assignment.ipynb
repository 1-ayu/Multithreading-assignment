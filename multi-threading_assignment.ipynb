{
 "cells": [
  {
   "cell_type": "markdown",
   "metadata": {},
   "source": [
    "1. What is Multithreading in Python? Why is it used? Name the module used to handle threads in python."
   ]
  },
  {
   "cell_type": "markdown",
   "metadata": {},
   "source": [
    "Ans. \n",
    "* Multithreading in Python refers to the concurrent execution of multiple threads within a single process. A thread is the smallestt unit of execution within a process, and multithreading allows these threads to run concurrently, potentially improving the overall performance and responsiveness of a program.\n",
    "\n",
    "\n",
    "* Multithreading is used when there is a need for concurrent executiion of tasks, especially in scenarios where certain operations can be performed independently. It is important to note that due to the Global Interpreter Lock(GIL) in CPython (the default and most widely used implementation of Python),\n",
    "Mutlithreading might not provide a significant performance improvement for CPU- bound tasks. However, for I/O- bound taskks, such as network communication or file operations, multithreading can be beneficial.\n",
    "\n",
    "* The module used to handle threads in Python is primary module."
   ]
  },
  {
   "cell_type": "markdown",
   "metadata": {},
   "source": [
    "2. Why threading module is used? Write the use of the following functions:\n",
    "    1. activeCount()\n",
    "    2. currentThread()\n",
    "    3. enumerate()"
   ]
  },
  {
   "cell_type": "markdown",
   "metadata": {},
   "source": [
    "Ans. The 'threading' module in python is used to implemene multithreading , allowing the concurrent execution of multiple threads within a single process. Here are some  reasons why the 'threading' module is used:\n",
    "\n",
    "1. Concurrent Execution:\n",
    "\n",
    "    *  Threading allows different parts of a program to run concurrently, potentially improving the overall performance by executing multiple tasks simultaneously.\n",
    "2. Parallelism for I/O Bound Tasks:\n",
    "    \n",
    "    * Threading is particularly useful for I/O-bound tasks, where the program spends a significant amount of time waiting for input/output operations (such as reading/ writing to files, network communication, or database queries). In such cases, threads can perform other tasks while waiting for I/O operations to complete.\n",
    "3. Responsiveness:\n",
    "\n",
    "    * Multithreading can be used to create responsive user interfaces. By running time-consuming tasks in a seperate thread, the main thread remains available to handle user input and keep the interface responsive.\n",
    "4. Parallelizing Independent Operations:\n",
    "\n",
    "    * When a program has independent operaions that can be executed concurrently without affecting each other, threading provides a way to parallelize these operations, potentially reducing the overall execution time.\n",
    "\n",
    "5. Resource Sharing:\n",
    "\n",
    "    * Threads within the same process share the same memory space, making it easier to share data between threads. This can be advantageous for communication and coordination between different parts of a program."
   ]
  },
  {
   "cell_type": "markdown",
   "metadata": {},
   "source": [
    "The use of:\n",
    "1. 'activeCount()' function:\n",
    "\n",
    "    * The 'activeCount()' function is used to get the number of Thread objects currently alive(either started or not terminated).\n",
    "    * It can be useful for monitoring the number of active threads in a program."
   ]
  },
  {
   "cell_type": "code",
   "execution_count": 2,
   "metadata": {},
   "outputs": [
    {
     "name": "stdout",
     "output_type": "stream",
     "text": [
      "Number of active threads: 6\n"
     ]
    }
   ],
   "source": [
    "import threading\n",
    "\n",
    "def my_function():\n",
    "\n",
    "    thread1=threading.Thread(target=my_function)\n",
    "    thread2=threading.Thread(target=my_function)\n",
    "    thread1.start()\n",
    "    thread2.start()\n",
    "active_threads= threading.active_count()\n",
    "print(f\"Number of active threads: {active_threads}\")"
   ]
  },
  {
   "cell_type": "markdown",
   "metadata": {},
   "source": [
    "2. 'currentThread()' method:\n",
    "\n",
    "    * Use:\n",
    "        * Returns the current Thread object corresponding to the caller's thread of control.\n",
    "\n",
    "    * Example"
   ]
  },
  {
   "cell_type": "code",
   "execution_count": 1,
   "metadata": {},
   "outputs": [
    {
     "name": "stdout",
     "output_type": "stream",
     "text": [
      "Current Thread: Thread-5 (print_current_thread)\n"
     ]
    }
   ],
   "source": [
    "import threading\n",
    "def print_current_thread():\n",
    "    current_thread =threading.current_thread()\n",
    "    print(f\"Current Thread: {current_thread.name}\")\n",
    "\n",
    "my_thread= threading.Thread(target=print_current_thread)\n",
    "\n",
    "my_thread.start()"
   ]
  },
  {
   "cell_type": "markdown",
   "metadata": {},
   "source": [
    "3. 'enumerate()'\n",
    "    * Use:\n",
    "        * It is useful when iterating over a sequence(such as list,tuple and string) while also keeping track of the index of the current them. It returns tuples containing the index and the corresponding item from the iterable. This can be especially handy in situations where you need both the value and its index during iteration.\n",
    "    * Example: "
   ]
  },
  {
   "cell_type": "code",
   "execution_count": 3,
   "metadata": {},
   "outputs": [
    {
     "name": "stdout",
     "output_type": "stream",
     "text": [
      "0 ayush\n",
      "1 yusuf\n",
      "2 lauren\n"
     ]
    }
   ],
   "source": [
    "a=[\"ayush\",\"yusuf\",\"lauren\"]\n",
    "\n",
    "for index, i in enumerate(a):\n",
    "    print(index,i)"
   ]
  },
  {
   "cell_type": "markdown",
   "metadata": {},
   "source": [
    "3. Explain the following functions:"
   ]
  },
  {
   "cell_type": "markdown",
   "metadata": {},
   "source": [
    "Ans.\n",
    "\n",
    "i) run() - This function typically represents the entry point for the code that will run in a seperate thread. In python's threading module, you define a subclass of 'threading.Thread' and override its 'run()' method. The code inside the 'run()' method will be executed when the thread is started."
   ]
  },
  {
   "cell_type": "code",
   "execution_count": 1,
   "metadata": {},
   "outputs": [
    {
     "name": "stdout",
     "output_type": "stream",
     "text": [
      "Thread is running\n"
     ]
    }
   ],
   "source": [
    "import threading\n",
    "\n",
    "class MyThread(threading.Thread):\n",
    "    def run(self):\n",
    "        print(\"Thread is running\")\n",
    "\n",
    "thread= MyThread()\n",
    "thread.start()"
   ]
  },
  {
   "cell_type": "markdown",
   "metadata": {},
   "source": [
    "ii) start() - This function is used to start the execution of a thread. When you call 'start()' on a thread object, it will invoke the 'run()' method of that thread, executing the code inside it. It's important to note that you should never call the 'run()' method directly; always use 'start()' to ensure proper thread execution.  "
   ]
  },
  {
   "cell_type": "code",
   "execution_count": 2,
   "metadata": {},
   "outputs": [
    {
     "name": "stdout",
     "output_type": "stream",
     "text": [
      "Thread is running\n"
     ]
    }
   ],
   "source": [
    "import threading\n",
    "\n",
    "def my_function():\n",
    "    print(\"Thread is running\")\n",
    "\n",
    "thread= threading.Thread(target=my_function)\n",
    "thread.start()"
   ]
  },
  {
   "cell_type": "markdown",
   "metadata": {},
   "source": [
    "iii) join() - It is used to wait for a thread to complete its execution. When you call 'join()' on a thread object, the program will pause and wait until the specified thread terminates before continuing execution. This is paricularly useful when you need to synchronize the main thread with other threads. "
   ]
  },
  {
   "cell_type": "code",
   "execution_count": 6,
   "metadata": {},
   "outputs": [
    {
     "name": "stdout",
     "output_type": "stream",
     "text": [
      "thread is runningthread has finished executing\n",
      "\n"
     ]
    }
   ],
   "source": [
    "import threading\n",
    "def my_function():\n",
    "    print(\"thread is running\")\n",
    "\n",
    "thread= threading.Thread(target=my_function)\n",
    "thread.start()\n",
    "# thread.join()\n",
    "\n",
    "print(\"thread has finished executing\")"
   ]
  },
  {
   "cell_type": "code",
   "execution_count": 14,
   "metadata": {},
   "outputs": [
    {
     "name": "stdout",
     "output_type": "stream",
     "text": [
      "thread is running\n",
      "thread has finished executing\n"
     ]
    }
   ],
   "source": [
    "import threading\n",
    "def my_function():\n",
    "\n",
    "    print(\"thread is running\")\n",
    "\n",
    "thread= threading.Thread(target=my_function)\n",
    "thread.start()\n",
    "thread.join()\n",
    "\n",
    "print(\"thread has finished executing\")"
   ]
  },
  {
   "cell_type": "markdown",
   "metadata": {},
   "source": [
    "iv) isalive() - It is used to check if a thread is currently executing. It returns 'True' if the thread is still running, and 'False' otherwise. It's often used in conjunction with other operations to check the status of a thread."
   ]
  },
  {
   "cell_type": "code",
   "execution_count": 15,
   "metadata": {},
   "outputs": [
    {
     "name": "stderr",
     "output_type": "stream",
     "text": [
      "Exception in thread Thread-18 (my_function):\n",
      "Traceback (most recent call last):\n",
      "  File \"c:\\Users\\ayush\\AppData\\Local\\Programs\\Python\\Python311\\Lib\\threading.py\", line 1038, in _bootstrap_inner\n",
      "    self.run()\n",
      "  File \"c:\\Users\\ayush\\AppData\\Local\\Programs\\Python\\Python311\\Lib\\threading.py\", line 975, in run\n",
      "    self._target(*self._args, **self._kwargs)\n",
      "  File \"C:\\Users\\ayush\\AppData\\Local\\Temp\\ipykernel_10380\\1299877624.py\", line 5, in my_function\n",
      "TypeError: time.sleep() takes exactly one argument (0 given)\n"
     ]
    },
    {
     "name": "stdout",
     "output_type": "stream",
     "text": [
      "Is thread alive? True\n",
      "Is thread alive? False\n"
     ]
    }
   ],
   "source": [
    "import threading\n",
    "import time\n",
    "\n",
    "def my_function():\n",
    "    time.sleep()\n",
    "    print(\"Thread is running\")\n",
    "\n",
    "thread = threading.Thread(target=my_function)\n",
    "thread.start()\n",
    "print(\"Is thread alive?\", thread.is_alive())\n",
    "time.sleep(3)\n",
    "print(\"Is thread alive?\", thread.is_alive())"
   ]
  },
  {
   "cell_type": "markdown",
   "metadata": {},
   "source": [
    "4. Write a python program to create two threads. Thread one must print the list of squares and thread two must print the list of cubes."
   ]
  },
  {
   "cell_type": "code",
   "execution_count": 12,
   "metadata": {},
   "outputs": [
    {
     "name": "stdout",
     "output_type": "stream",
     "text": [
      "Squared : 1 * 1= 1\n",
      "\n",
      "Squared : 2 * 2= 4\n",
      "\n",
      "Squared : 3 * 3= 9\n",
      "\n",
      "Squared : 4 * 4= 16\n",
      "\n",
      "Squared : 5 * 5= 25\n",
      "\n",
      "\n",
      "Cubes: 1 * 1 * 1= 1\n",
      "\n",
      "Cubes: 2 * 2 * 2= 8\n",
      "\n",
      "Cubes: 3 * 3 * 3= 27\n",
      "\n",
      "Cubes: 4 * 4 * 4= 64\n",
      "\n",
      "Cubes: 5 * 5 * 5= 125\n",
      "\n",
      "Both threads have finished\n"
     ]
    }
   ],
   "source": [
    "import threading\n",
    "\n",
    "def print_squares(numbers):\n",
    "    for num in numbers:\n",
    "        print(f\"Squared : {num} * {num}= {num**2}\\n\")\n",
    "\n",
    "def print_cubes(numbers):\n",
    "    for num in numbers:\n",
    "        print(f\"\\nCubes: {num} * {num} * {num}= {num**3}\")\n",
    "\n",
    "def main():\n",
    "    numbers =[1,2,3,4,5]\n",
    "\n",
    "    thread1=threading.Thread(target=print_squares,args=(numbers,))\n",
    "    thread2=threading.Thread(target=print_cubes,args=(numbers,))\n",
    "    thread1.start()\n",
    "    thread2.start()\n",
    "\n",
    "\n",
    "if __name__ == \"__main__\":\n",
    "    main()\n",
    "\n",
    "    print(\"\\nBoth threads have finished\")"
   ]
  },
  {
   "cell_type": "markdown",
   "metadata": {},
   "source": [
    "5. State advantageous and disadvantageous of multithreading."
   ]
  },
  {
   "cell_type": "markdown",
   "metadata": {},
   "source": [
    "Ans. Advantageous of multithreading:\n",
    "\n",
    "i) Improved Performance: Multithreading and lead to improved performance by allowing multiple tasks to be executed simultaneously. This can be particularly benefecial in tasks where certain operations can be performed concurrently without waiting for others to complete.\n",
    "\n",
    "ii) Resource Utilization: It helps in better utilization of CPU resources. While one thread is waiting for I/O operation (such as reading from disk or network), another thread can utilize CPU resources efficiently.\n",
    "\n",
    "iii) Responsiveness: Multithreading can enhance system responsiveness by allowing certain tasks to be performed in the background while still allowing user interaction with the application.\n",
    "\n",
    "iv) Modularity: Multithreading enables the development of mudular and responsive software systems by breaking down complex tasks into smaller, more manageable threads that can execute concurrently.\n",
    "\n",
    "v) Parallelism: It facilitates parallelism, which can significantly speed up the execution of tasks, especially in multi-core systems where different threads can run on seperate cores simultaneouly. \n",
    "\n",
    "Disadvanteges :\n",
    "\n",
    "i) Complexity: Multithreading introduces complexity into software development. Writing correct multithread code requires careful consideration of synchronization, thread safety, and potential race conditions, which can be challenging to manage and debug.\n",
    "\n",
    "ii) Synchronization Overhead: Synchronizing access to shared resources among multiple threads can introduce overhead and potentially lead to performance degradation. Lock contention, deadlock, and livelock are common issues that can arise due to improper synchronization.\n",
    "\n",
    "iii) Debugging and Testing: Multithreaded are often harder to debug and test compared to single- threaded applications. Issues such as race conditions and deadllocks may not manifest consistently and can be difficult to reproduce and diagnose.\n",
    "\n",
    "iv)Increased Resources Consumption: Miltithreading can lead to increased resource consumption, including higher memory usage and CPU overhead due to the creation and management of multiple threads."
   ]
  },
  {
   "cell_type": "markdown",
   "metadata": {},
   "source": [
    "6. Explain Deadlocks and race conditions."
   ]
  },
  {
   "cell_type": "markdown",
   "metadata": {},
   "source": [
    "Ans. \n",
    "     \n",
    "     Deadlocks: \n",
    "Deadlocks occur in concurrent systems when two or more processes or threads are waiting for each other to release resources, but none of them can proceed because they are all holding resources that the others need. This creates a circular dependency where each process is waiting for another to release a resource, resulting in a standstill. Deadlocks can happen due to improper resource allocation and synchronization.\n",
    "\n",
    "     Race conditions:\n",
    "It occurs when the behaviour of a system depends on the timing or interleaving of multiple concurrent operations. In other words, the outcome of the program becomes unpredictable because the exection order of concurrent operations affects the final result. Race conditions often arise when multiple threads or processes access shared resources without proper synchronization.\n"
   ]
  },
  {
   "cell_type": "code",
   "execution_count": null,
   "metadata": {},
   "outputs": [],
   "source": []
  }
 ],
 "metadata": {
  "kernelspec": {
   "display_name": "Python 3",
   "language": "python",
   "name": "python3"
  },
  "language_info": {
   "codemirror_mode": {
    "name": "ipython",
    "version": 3
   },
   "file_extension": ".py",
   "mimetype": "text/x-python",
   "name": "python",
   "nbconvert_exporter": "python",
   "pygments_lexer": "ipython3",
   "version": "undefined.undefined.undefined"
  }
 },
 "nbformat": 4,
 "nbformat_minor": 2
}
